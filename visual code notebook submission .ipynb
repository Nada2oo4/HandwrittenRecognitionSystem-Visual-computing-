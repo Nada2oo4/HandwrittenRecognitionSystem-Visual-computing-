{
 "cells": [
  {
   "cell_type": "markdown",
   "id": "e08ea4f0-c9ec-4902-8d9c-a39760325028",
   "metadata": {},
   "source": [
    "# ---Handwritten recognition system----"
   ]
  },
  {
   "cell_type": "markdown",
   "id": "5620edce-4b77-462a-b84c-97f4c69f7201",
   "metadata": {},
   "source": [
    "# Installing important packages"
   ]
  },
  {
   "cell_type": "code",
   "execution_count": null,
   "id": "5e799364-482e-4420-8910-f910b250ccce",
   "metadata": {},
   "outputs": [],
   "source": [
    "! pip install tensorflow matplotlib # Install TensorFlow (for building, training, and using deep learning models)"
   ]
  },
  {
   "cell_type": "code",
   "execution_count": 124,
   "id": "6d272aac-4044-44ee-927e-a0b90edafcba",
   "metadata": {},
   "outputs": [
    {
     "name": "stdout",
     "output_type": "stream",
     "text": [
      "Requirement already satisfied: opencv-python in /opt/anaconda3/lib/python3.12/site-packages (4.11.0.86)\n",
      "Requirement already satisfied: numpy>=1.21.2 in /opt/anaconda3/lib/python3.12/site-packages (from opencv-python) (1.26.4)\n"
     ]
    }
   ],
   "source": [
    "! pip install opencv-python\n"
   ]
  },
  {
   "cell_type": "markdown",
   "id": "102fe2e0-b904-4372-ad5e-5e8f33bef9ad",
   "metadata": {},
   "source": [
    "# Import needed libraries"
   ]
  },
  {
   "cell_type": "code",
   "execution_count": 7,
   "id": "f4a37b90-83d2-41be-a246-5884f5826e7a",
   "metadata": {},
   "outputs": [],
   "source": [
    "import os\n",
    "import cv2\n",
    "import numpy as np\n",
    "from tensorflow.keras.utils import to_categorical\n",
    "import matplotlib.pyplot as plt\n"
   ]
  },
  {
   "cell_type": "markdown",
   "id": "021fc846-34e7-462a-bbed-6de9d426a778",
   "metadata": {},
   "source": [
    "# Handwritten Digit Dataset Loader\n",
    "This function loads grayscale images of handwritten digits from a directory structure where each subfolder is named after the digit it contains (e.g., 0, 1, ..., 9). Each image is resized and normalized before being added to the dataset, this is the link to the dataset being used https://universe.roboflow.com/popular-benchmarks/mnist-cjkff/dataset/3/download."
   ]
  },
  {
   "cell_type": "code",
   "execution_count": 9,
   "id": "fa41deff-d123-4055-9735-7b937aa0a6b7",
   "metadata": {},
   "outputs": [],
   "source": [
    "import os\n",
    "import cv2\n",
    "import numpy as np\n",
    "\n",
    "def load_data(data_dir):\n",
    "    X = []  # List to store image data\n",
    "    y = []  # List to store corresponding labels\n",
    "\n",
    "    # Loop through the subdirectories named 0–9\n",
    "    for folder_name in sorted(os.listdir(data_dir)):\n",
    "        folder_path = os.path.join(data_dir, folder_name)\n",
    "\n",
    "        # Skip if it's not a directory (safety check)\n",
    "        if not os.path.isdir(folder_path):\n",
    "            continue\n",
    "\n",
    "        # Convert folder name (e.g., \"3\") to an integer label (3)\n",
    "        label = int(folder_name)\n",
    "\n",
    "        # Loop through each image file in the digit folder\n",
    "        for filename in os.listdir(folder_path):\n",
    "            img_path = os.path.join(folder_path, filename)\n",
    "\n",
    "            # Read the image in grayscale\n",
    "            img = cv2.imread(img_path, cv2.IMREAD_GRAYSCALE)\n",
    "\n",
    "            if img is not None:\n",
    "                # Resize image to 28x28 pixels\n",
    "                img = cv2.resize(img, (28, 28))\n",
    "\n",
    "                # Normalize pixel values to [0, 1]\n",
    "                img = img / 255.0\n",
    "\n",
    "                # Append image and label to lists\n",
    "                X.append(img)\n",
    "                y.append(label)\n",
    "            else:\n",
    "                print(f\"Warning: Couldn't read {img_path}\")\n",
    "\n",
    "    # Convert lists to numpy arrays for model compatibility\n",
    "    return np.array(X), np.array(y)\n"
   ]
  },
  {
   "cell_type": "markdown",
   "id": "8f94a574-3c00-4fdd-b75a-ff6e6ecb917a",
   "metadata": {},
   "source": [
    "# Data Preprocessing: Reshape, One-Hot Encode, and Shuffle\n",
    "This section prepares the loaded MNIST digit images for training a convolutional neural network."
   ]
  },
  {
   "cell_type": "code",
   "execution_count": 13,
   "id": "2ccf6fb5-69cf-45f0-966b-a145fdfbc4d6",
   "metadata": {},
   "outputs": [],
   "source": [
    "# Load training and testing data from local MNIST folder\n",
    "X_train, y_train = load_data(\"/Users/nadaashraf/Downloads/MNIST/train\")\n",
    "X_test, y_test = load_data(\"/Users/nadaashraf/Downloads/MNIST/test\")\n",
    "\n",
    "# Reshape the data to add a channel dimension (needed for CNN input)\n",
    "# New shape: (number_of_samples, 28, 28, 1)\n",
    "X_train = X_train.reshape(-1, 28, 28, 1)\n",
    "X_test = X_test.reshape(-1, 28, 28, 1)\n",
    "\n",
    "# One-hot encode the labels to vectors of size 10\n",
    "# Example: label 3 becomes [0, 0, 0, 1, 0, 0, 0, 0, 0, 0]\n",
    "from tensorflow.keras.utils import to_categorical\n",
    "y_train = to_categorical(y_train, 10)\n",
    "y_test = to_categorical(y_test, 10)\n",
    "\n",
    "# Shuffle the training data to improve model generalization\n",
    "from sklearn.utils import shuffle\n",
    "X_train, y_train = shuffle(X_train, y_train, random_state=42)\n"
   ]
  },
  {
   "cell_type": "code",
   "execution_count": 14,
   "id": "31ad5103-723b-4062-bc29-b5bb5e74820a",
   "metadata": {},
   "outputs": [
    {
     "name": "stdout",
     "output_type": "stream",
     "text": [
      "Train label distribution: [1 6 6 1 1 8 2 2 1 5 8 3 0 3 7 4 4 7 3 5]\n"
     ]
    }
   ],
   "source": [
    "# Print the first 20 labels from the one-hot encoded training data\n",
    "# np.argmax converts one-hot vectors back to their original class labels (0–9)\n",
    "print(\"Train label distribution:\", np.argmax(y_train, axis=1)[:20])\n"
   ]
  },
  {
   "cell_type": "markdown",
   "id": "587f982f-080d-416a-af19-86305450b9e7",
   "metadata": {},
   "source": [
    "# Splitting the Dataset and Training the Model with Validation\n",
    "\n",
    "In this step, we split the 60,000 training images into 40,000 for training and 20,000 for validation. This helps us monitor the model’s performance and avoid overfitting.\n"
   ]
  },
  {
   "cell_type": "code",
   "execution_count": 16,
   "id": "16c223d0-9fbf-43ba-a009-8f6caf179411",
   "metadata": {},
   "outputs": [
    {
     "name": "stdout",
     "output_type": "stream",
     "text": [
      "Training set shape: (40000, 28, 28, 1)\n",
      "Validation set shape: (20000, 28, 28, 1)\n"
     ]
    }
   ],
   "source": [
    "from sklearn.model_selection import train_test_split\n",
    "\n",
    "# Split 60,000 samples into 40,000 for training and 20,000 for validation\n",
    "X_train, X_val, y_train, y_val = train_test_split(\n",
    "    X_train, y_train, test_size=20000, random_state=42, shuffle=True\n",
    ")\n",
    "\n",
    "# Show the new shapes to confirm\n",
    "print(\"Training set shape:\", X_train.shape)\n",
    "print(\"Validation set shape:\", X_val.shape)"
   ]
  },
  {
   "cell_type": "markdown",
   "id": "4640eae9-08ab-4bce-ad5b-963d7493162e",
   "metadata": {},
   "source": [
    "# Visualizing Sample Images from the Training Set\n",
    "This section displays a few sample handwritten digits from the training dataset along with their corresponding labels."
   ]
  },
  {
   "cell_type": "code",
   "execution_count": 18,
   "id": "660b7c85-1e0d-4d03-ba37-79b06afe8c6a",
   "metadata": {},
   "outputs": [
    {
     "data": {
      "image/png": "[encoded data removed]",
      "text/plain": [
       "<Figure size 640x480 with 1 Axes>"
      ]
     },
     "metadata": {},
     "output_type": "display_data"
    },
    {
     "data": {
      "image/png": "[encoded data removed]",
      "text/plain": [
       "<Figure size 640x480 with 1 Axes>"
      ]
     },
     "metadata": {},
     "output_type": "display_data"
    },
    {
     "data": {
      "image/png": "[encoded data removed]",
      "text/plain": [
       "<Figure size 640x480 with 1 Axes>"
      ]
     },
     "metadata": {},
     "output_type": "display_data"
    },
    {
     "data": {
      "image/png": "[encoded data removed]",
      "text/plain": [
       "<Figure size 640x480 with 1 Axes>"
      ]
     },
     "metadata": {},
     "output_type": "display_data"
    },
    {
     "data": {
      "image/png": "[encoded data removed]",
      "text/plain": [
       "<Figure size 640x480 with 1 Axes>"
      ]
     },
     "metadata": {},
     "output_type": "display_data"
    }
   ],
   "source": [
    "import matplotlib.pyplot as plt\n",
    "\n",
    "# Display the first 5 images from the training set with their labels\n",
    "for i in range(5):\n",
    "    # Reshape the image back to 28x28 for visualization (remove channel dimension)\n",
    "    plt.imshow(X_train[i].reshape(28, 28), cmap='gray')\n",
    "    \n",
    "    # Set the title to show the actual label (converted from one-hot encoding)\n",
    "    plt.title(f\"Label: {np.argmax(y_train[i])}\")\n",
    "    \n",
    "    # Hide axis ticks and labels for clarity\n",
    "    plt.axis('off')\n",
    "    \n",
    "    # Display the image\n",
    "    plt.show()\n"
   ]
  },
  {
   "cell_type": "markdown",
   "id": "44a798f4-479f-49ad-9e8a-d0473f95c0e7",
   "metadata": {},
   "source": [
    "# Building the LeNet-5 Convolutional Neural Network Model\n",
    "This section builds and compiles a CNN based on the classic LeNet-5 architecture, adapted for handwritten digit classification (MNIST dataset)."
   ]
  },
  {
   "cell_type": "code",
   "execution_count": 24,
   "id": "13f48daa-a9c7-4193-afa3-4ffcfe9115cd",
   "metadata": {},
   "outputs": [
    {
     "name": "stderr",
     "output_type": "stream",
     "text": [
      "/opt/anaconda3/lib/python3.12/site-packages/keras/src/layers/convolutional/base_conv.py:107: UserWarning: Do not pass an `input_shape`/`input_dim` argument to a layer. When using Sequential models, prefer using an `Input(shape)` object as the first layer in the model instead.\n",
      "  super().__init__(activity_regularizer=activity_regularizer, **kwargs)\n"
     ]
    }
   ],
   "source": [
    "from tensorflow.keras import layers, models\n",
    "\n",
    "# Define a sequential model\n",
    "model = models.Sequential()\n",
    "\n",
    "#LeNet-5 Inspired Architecture\n",
    "\n",
    "# First convolutional layer: 6 filters of size 5x5, ReLU activation\n",
    "model.add(layers.Conv2D(6, (5, 5), activation='relu', input_shape=(28, 28, 1)))\n",
    "\n",
    "# First average pooling layer to reduce spatial dimensions\n",
    "model.add(layers.AveragePooling2D(pool_size=(2, 2)))\n",
    "\n",
    "# Second convolutional layer: 16 filters of size 5x5, ReLU activation\n",
    "model.add(layers.Conv2D(16, (5, 5), activation='relu'))\n",
    "\n",
    "# Second average pooling layer\n",
    "model.add(layers.AveragePooling2D(pool_size=(2, 2)))\n",
    "\n",
    "# Flatten the output to feed into the fully connected layers\n",
    "model.add(layers.Flatten())\n",
    "\n",
    "# First fully connected (dense) layer with 120 neurons\n",
    "model.add(layers.Dense(120, activation='relu'))\n",
    "\n",
    "# Second fully connected layer with 84 neurons\n",
    "model.add(layers.Dense(84, activation='relu'))\n",
    "\n",
    "# Output layer with 10 neurons (for digits 0–9), using softmax for probability distribution\n",
    "model.add(layers.Dense(10, activation='softmax'))\n",
    "\n",
    "#Model Compilation\n",
    "\n",
    "# Compile the model with Adam optimizer and categorical cross-entropy loss\n",
    "model.compile(optimizer='adam',\n",
    "              loss='categorical_crossentropy',\n",
    "              metrics=['accuracy'])\n",
    "\n"
   ]
  },
  {
   "cell_type": "markdown",
   "id": "6a6d0da5-2e2b-428c-abc9-e3cdc440913f",
   "metadata": {},
   "source": [
    "# Training the CNN Model\n",
    "This section trains the LeNet-5 CNN model using the prepared training data and evaluates it on the validation set."
   ]
  },
  {
   "cell_type": "code",
   "execution_count": 29,
   "id": "711cb18b-11c7-4e30-91cc-97a75f7b1960",
   "metadata": {},
   "outputs": [
    {
     "name": "stdout",
     "output_type": "stream",
     "text": [
      "Epoch 1/30\n",
      "313/313 - 3s - 11ms/step - accuracy: 0.8459 - loss: 0.5292 - val_accuracy: 0.9349 - val_loss: 0.2216\n",
      "Epoch 2/30\n",
      "313/313 - 3s - 9ms/step - accuracy: 0.9458 - loss: 0.1810 - val_accuracy: 0.9602 - val_loss: 0.1306\n",
      "Epoch 3/30\n",
      "313/313 - 3s - 9ms/step - accuracy: 0.9633 - loss: 0.1192 - val_accuracy: 0.9701 - val_loss: 0.0998\n",
      "Epoch 4/30\n",
      "313/313 - 3s - 9ms/step - accuracy: 0.9736 - loss: 0.0888 - val_accuracy: 0.9751 - val_loss: 0.0814\n",
      "Epoch 5/30\n",
      "313/313 - 3s - 9ms/step - accuracy: 0.9770 - loss: 0.0744 - val_accuracy: 0.9754 - val_loss: 0.0787\n",
      "Epoch 6/30\n",
      "313/313 - 3s - 9ms/step - accuracy: 0.9804 - loss: 0.0638 - val_accuracy: 0.9779 - val_loss: 0.0709\n",
      "Epoch 7/30\n",
      "313/313 - 3s - 9ms/step - accuracy: 0.9823 - loss: 0.0564 - val_accuracy: 0.9801 - val_loss: 0.0624\n",
      "Epoch 8/30\n",
      "313/313 - 3s - 10ms/step - accuracy: 0.9850 - loss: 0.0498 - val_accuracy: 0.9825 - val_loss: 0.0574\n",
      "Epoch 9/30\n",
      "313/313 - 3s - 10ms/step - accuracy: 0.9858 - loss: 0.0459 - val_accuracy: 0.9822 - val_loss: 0.0556\n",
      "Epoch 10/30\n",
      "313/313 - 3s - 10ms/step - accuracy: 0.9864 - loss: 0.0428 - val_accuracy: 0.9833 - val_loss: 0.0525\n",
      "Epoch 11/30\n",
      "313/313 - 3s - 10ms/step - accuracy: 0.9878 - loss: 0.0383 - val_accuracy: 0.9825 - val_loss: 0.0545\n",
      "Epoch 12/30\n",
      "313/313 - 3s - 10ms/step - accuracy: 0.9897 - loss: 0.0337 - val_accuracy: 0.9824 - val_loss: 0.0602\n",
      "Epoch 13/30\n",
      "313/313 - 3s - 10ms/step - accuracy: 0.9899 - loss: 0.0315 - val_accuracy: 0.9843 - val_loss: 0.0505\n",
      "Epoch 14/30\n",
      "313/313 - 3s - 10ms/step - accuracy: 0.9906 - loss: 0.0287 - val_accuracy: 0.9833 - val_loss: 0.0572\n",
      "Epoch 15/30\n",
      "313/313 - 3s - 10ms/step - accuracy: 0.9913 - loss: 0.0272 - val_accuracy: 0.9858 - val_loss: 0.0440\n",
      "Epoch 16/30\n",
      "313/313 - 3s - 10ms/step - accuracy: 0.9922 - loss: 0.0242 - val_accuracy: 0.9854 - val_loss: 0.0481\n",
      "Epoch 17/30\n",
      "313/313 - 3s - 11ms/step - accuracy: 0.9928 - loss: 0.0216 - val_accuracy: 0.9870 - val_loss: 0.0447\n",
      "Epoch 18/30\n",
      "313/313 - 3s - 11ms/step - accuracy: 0.9937 - loss: 0.0195 - val_accuracy: 0.9860 - val_loss: 0.0507\n",
      "Epoch 19/30\n",
      "313/313 - 3s - 11ms/step - accuracy: 0.9933 - loss: 0.0196 - val_accuracy: 0.9855 - val_loss: 0.0503\n",
      "Epoch 20/30\n",
      "313/313 - 3s - 11ms/step - accuracy: 0.9945 - loss: 0.0169 - val_accuracy: 0.9867 - val_loss: 0.0476\n",
      "Epoch 21/30\n",
      "313/313 - 3s - 10ms/step - accuracy: 0.9945 - loss: 0.0154 - val_accuracy: 0.9854 - val_loss: 0.0560\n",
      "Epoch 22/30\n",
      "313/313 - 3s - 11ms/step - accuracy: 0.9958 - loss: 0.0134 - val_accuracy: 0.9865 - val_loss: 0.0507\n",
      "Epoch 23/30\n",
      "313/313 - 3s - 11ms/step - accuracy: 0.9955 - loss: 0.0142 - val_accuracy: 0.9863 - val_loss: 0.0521\n",
      "Epoch 24/30\n",
      "313/313 - 3s - 11ms/step - accuracy: 0.9956 - loss: 0.0130 - val_accuracy: 0.9860 - val_loss: 0.0522\n",
      "Epoch 25/30\n",
      "313/313 - 3s - 11ms/step - accuracy: 0.9952 - loss: 0.0146 - val_accuracy: 0.9869 - val_loss: 0.0469\n",
      "Epoch 26/30\n",
      "313/313 - 3s - 11ms/step - accuracy: 0.9957 - loss: 0.0123 - val_accuracy: 0.9883 - val_loss: 0.0453\n",
      "Epoch 27/30\n",
      "313/313 - 3s - 11ms/step - accuracy: 0.9965 - loss: 0.0100 - val_accuracy: 0.9882 - val_loss: 0.0512\n",
      "Epoch 28/30\n",
      "313/313 - 4s - 11ms/step - accuracy: 0.9970 - loss: 0.0100 - val_accuracy: 0.9877 - val_loss: 0.0538\n",
      "Epoch 29/30\n",
      "313/313 - 3s - 11ms/step - accuracy: 0.9974 - loss: 0.0083 - val_accuracy: 0.9877 - val_loss: 0.0529\n",
      "Epoch 30/30\n",
      "313/313 - 3s - 11ms/step - accuracy: 0.9970 - loss: 0.0084 - val_accuracy: 0.9859 - val_loss: 0.0612\n"
     ]
    },
    {
     "data": {
      "text/plain": [
       "<keras.src.callbacks.history.History at 0x31c995ee0>"
      ]
     },
     "execution_count": 29,
     "metadata": {},
     "output_type": "execute_result"
    }
   ],
   "source": [
    "# epochs: number of times the model will iterate over the entire training set\n",
    "# batch_size: number of samples per gradient update\n",
    "# validation_data: data used to evaluate model performance after each epoch\n",
    "\n",
    "\n",
    "model.fit(X_train, y_train,epochs=30,batch_size=128,validation_data=(X_val, y_val),  # Validation data used to monitor performance\n",
    "    verbose=2  # Show detailed progress during training\n",
    ")"
   ]
  },
  {
   "cell_type": "markdown",
   "id": "feb55d0d-a9d0-4397-9419-f46b68332ca7",
   "metadata": {},
   "source": [
    "# Evaluating Model Performance on Test Data\n",
    "This section evaluates the trained model on the test dataset to measure its accuracy and loss."
   ]
  },
  {
   "cell_type": "code",
   "execution_count": 32,
   "id": "6ca1b2a3-3452-4a6a-b2f8-26bc8c1bf84c",
   "metadata": {},
   "outputs": [
    {
     "name": "stdout",
     "output_type": "stream",
     "text": [
      "313/313 - 1s - 2ms/step - accuracy: 0.9865 - loss: 0.0595\n",
      "Test accuracy: 0.9865000247955322\n",
      "Test loss: 0.05953458696603775\n"
     ]
    }
   ],
   "source": [
    "# Evaluate the trained model on the test dataset\n",
    "# verbose=2 for clean, readable output\n",
    "test_loss, test_acc = model.evaluate(X_test, y_test, verbose=2)\n",
    "\n",
    "# Print the test accuracy and loss\n",
    "print(f'Test accuracy: {test_acc}')\n",
    "print(f'Test loss: {test_loss}')\n"
   ]
  },
  {
   "cell_type": "markdown",
   "id": "9fec27bf-9830-499b-8468-faca778845c1",
   "metadata": {},
   "source": [
    "# Making Predictions on Test Images\n",
    "This section demonstrates how to use the trained model to predict the class of a single image from the test set."
   ]
  },
  {
   "cell_type": "code",
   "execution_count": 35,
   "id": "d5d40fc3-1f2f-4043-b4a0-06957bfd8633",
   "metadata": {},
   "outputs": [
    {
     "name": "stdout",
     "output_type": "stream",
     "text": [
      "\u001b[1m313/313\u001b[0m \u001b[32m━━━━━━━━━━━━━━━━━━━━\u001b[0m\u001b[37m\u001b[0m \u001b[1m1s\u001b[0m 1ms/step\n",
      "Predicted label: 0\n"
     ]
    }
   ],
   "source": [
    "# Predict the class probabilities for all test images\n",
    "predictions = model.predict(X_test)\n",
    "\n",
    "# Get the predicted label for the first image in the test set\n",
    "# - predictions[0] is a vector of class probabilities\n",
    "# - .argmax() returns the index of the highest probability (i.e., predicted digit)\n",
    "predicted_label = predictions[0].argmax()\n",
    "\n",
    "# Display the predicted label\n",
    "print(f'Predicted label: {predicted_label}')\n"
   ]
  },
  {
   "cell_type": "code",
   "execution_count": 37,
   "id": "9389cd52-e378-44a7-82f2-23ed63c3f33f",
   "metadata": {},
   "outputs": [
    {
     "data": {
      "image/png": "[encoded data removed]",
      "text/plain": [
       "<Figure size 640x480 with 1 Axes>"
      ]
     },
     "metadata": {},
     "output_type": "display_data"
    }
   ],
   "source": [
    "# displaying the image \n",
    "# Plot an example image from the test set\n",
    "plt.imshow(X_test[0].reshape(28, 28), cmap='gray')  # Reshape to 28x28 to display\n",
    "plt.title(f'Predicted Label: {predicted_label}')\n",
    "plt.axis('off')\n",
    "plt.show()\n"
   ]
  },
  {
   "cell_type": "markdown",
   "id": "5a087162-ee63-4c37-97a2-ea8e1eb1cc08",
   "metadata": {},
   "source": [
    "# Saving the Trained Model\n",
    "This section saves the trained model to a file so that it can be loaded and used later without retraining."
   ]
  },
  {
   "cell_type": "code",
   "execution_count": 40,
   "id": "2d733835-08ac-4514-97e9-15f0e9a620c2",
   "metadata": {},
   "outputs": [
    {
     "name": "stderr",
     "output_type": "stream",
     "text": [
      "WARNING:absl:You are saving your model as an HDF5 file via `model.save()` or `keras.saving.save_model(model)`. This file format is considered legacy. We recommend using instead the native Keras format, e.g. `model.save('my_model.keras')` or `keras.saving.save_model(model, 'my_model.keras')`. \n"
     ]
    }
   ],
   "source": [
    "# Save the model to a file\n",
    "model.save('Desktop/handwritten_digit_model.h5')\n"
   ]
  },
  {
   "cell_type": "markdown",
   "id": "98ddc1da-1f43-4329-b331-173fc7d73220",
   "metadata": {},
   "source": [
    "# Testing Model on Custom Images\n",
    "This section demonstrates how to preprocess and test the model on custom images that aren't part of the MNIST dataset and handle images that aren't in the same format."
   ]
  },
  {
   "cell_type": "code",
   "execution_count": 43,
   "id": "44b842af-ba07-4345-a2df-4d1fb3f152ce",
   "metadata": {},
   "outputs": [
    {
     "data": {
      "image/png": "[encoded data removed]",
      "text/plain": [
       "<Figure size 640x480 with 1 Axes>"
      ]
     },
     "metadata": {},
     "output_type": "display_data"
    }
   ],
   "source": [
    "img_path= \"Downloads/testing 3image.png\"\n",
    "img=cv2.imread(img_path)\n",
    "image_rgb=cv2.cvtColor(img, cv2.COLOR_BGR2RGB)\n",
    "plt.imshow(image_rgb)\n",
    "plt.axis('off')\n",
    "plt.show()"
   ]
  },
  {
   "cell_type": "markdown",
   "id": "b43af7a9-2d0d-4abd-80e8-afb2a5b2372b",
   "metadata": {},
   "source": [
    "#### Preprocessing the Custom Image for Model Prediction"
   ]
  },
  {
   "cell_type": "code",
   "execution_count": 46,
   "id": "d9394371-9024-4044-a73b-0fd94bb1afd6",
   "metadata": {},
   "outputs": [],
   "source": [
    "# Function to preprocess the custom image\n",
    "def preprocess_image(img_path):\n",
    "    img = cv2.imread(img_path, cv2.IMREAD_GRAYSCALE) # Read as grayscale\n",
    "    img = cv2.resize(img, (28, 28)) # Resize to 28x28 (input size for the model)\n",
    "    \n",
    "    # Invert if background is white and digit is black\n",
    "    if np.mean(img) > 127:  # If image is mostly bright\n",
    "        img = 255 - img\n",
    "    \n",
    "    img = img / 255.0  # Normalize\n",
    "    img = img.reshape(1, 28, 28, 1)  # Reshape for model\n",
    "    return img"
   ]
  },
  {
   "cell_type": "code",
   "execution_count": 48,
   "id": "698fb01a-affc-4743-9d38-d7eef335d0c5",
   "metadata": {},
   "outputs": [
    {
     "name": "stdout",
     "output_type": "stream",
     "text": [
      "\u001b[1m1/1\u001b[0m \u001b[32m━━━━━━━━━━━━━━━━━━━━\u001b[0m\u001b[37m\u001b[0m \u001b[1m0s\u001b[0m 27ms/step\n",
      "Predicted Digit: 3\n"
     ]
    }
   ],
   "source": [
    "# Preprocess the custom image\n",
    "img = preprocess_image(\"Downloads/testing 3image.png\")\n",
    "\n",
    "# Predict the digit using the trained model\n",
    "pred = model.predict(img)\n",
    "\n",
    "# Output the predicted digit\n",
    "print(f\"Predicted Digit: {np.argmax(pred)}\")  # Use np.argmax to get the predicted class"
   ]
  },
  {
   "cell_type": "code",
   "execution_count": 50,
   "id": "a39d3125-03f8-499b-9910-ed354aae426d",
   "metadata": {},
   "outputs": [
    {
     "data": {
      "image/png": "[encoded data removed]",
      "text/plain": [
       "<Figure size 640x480 with 1 Axes>"
      ]
     },
     "metadata": {},
     "output_type": "display_data"
    }
   ],
   "source": [
    "img_path= \"Downloads/two.png\"\n",
    "img=cv2.imread(img_path)\n",
    "image2_rgb=cv2.cvtColor(img, cv2.COLOR_BGR2RGB)\n",
    "plt.imshow(image2_rgb)\n",
    "plt.axis('off')\n",
    "plt.show()"
   ]
  },
  {
   "cell_type": "code",
   "execution_count": 52,
   "id": "a4716c6f-51ca-4da2-b18a-2e433942b419",
   "metadata": {},
   "outputs": [],
   "source": [
    "def preprocess_image(img_path):\n",
    "    img = cv2.imread(img_path, cv2.IMREAD_GRAYSCALE)\n",
    "    img = cv2.resize(img, (28, 28))\n",
    "    \n",
    "    # Invert if background is white and digit is black\n",
    "    if np.mean(img) > 127:  # If image is mostly bright\n",
    "        img = 255 - img\n",
    "    \n",
    "    img = img / 255.0  # Normalize\n",
    "    img = img.reshape(1, 28, 28, 1)  # Reshape for model\n",
    "    return img\n"
   ]
  },
  {
   "cell_type": "code",
   "execution_count": 54,
   "id": "d5363e84-6152-4967-b4d3-6bc402da1c2a",
   "metadata": {},
   "outputs": [
    {
     "name": "stdout",
     "output_type": "stream",
     "text": [
      "\u001b[1m1/1\u001b[0m \u001b[32m━━━━━━━━━━━━━━━━━━━━\u001b[0m\u001b[37m\u001b[0m \u001b[1m0s\u001b[0m 20ms/step\n",
      "Predicted Digit: 2\n"
     ]
    }
   ],
   "source": [
    "img = preprocess_image(\"Downloads/two.png\")\n",
    "pred = model.predict(img)\n",
    "print(f\"Predicted Digit: {np.argmax(pred)}\")"
   ]
  },
  {
   "cell_type": "code",
   "execution_count": 56,
   "id": "c53c08fc-caeb-4a62-a569-3b0bbcd38da6",
   "metadata": {},
   "outputs": [
    {
     "data": {
      "image/png": "[encoded data removed]",
      "text/plain": [
       "<Figure size 640x480 with 1 Axes>"
      ]
     },
     "metadata": {},
     "output_type": "display_data"
    }
   ],
   "source": [
    "img_path= \"Downloads/Ds5Rc.png\"\n",
    "image=cv2.imread(img_path)\n",
    "image_rgb=cv2.cvtColor(image, cv2.COLOR_BGR2RGB)\n",
    "plt.imshow(image_rgb)\n",
    "plt.axis('off')\n",
    "plt.show()"
   ]
  },
  {
   "cell_type": "code",
   "execution_count": 58,
   "id": "6e663d2c-36fa-4721-a7e4-6155daf2c45d",
   "metadata": {},
   "outputs": [],
   "source": [
    "def preprocess_image(img_path):\n",
    "    img = cv2.imread(img_path, cv2.IMREAD_GRAYSCALE)\n",
    "    img = cv2.resize(img, (28, 28))\n",
    "    \n",
    "    # Invert if background is white and digit is black\n",
    "    if np.mean(img) > 127:  # If image is mostly bright\n",
    "        img = 255 - img\n",
    "    \n",
    "    img = img / 255.0  # Normalize\n",
    "    img = img.reshape(1, 28, 28, 1)  # Reshape for model\n",
    "    return img\n",
    "\n"
   ]
  },
  {
   "cell_type": "code",
   "execution_count": 60,
   "id": "36bd8630-3bc2-446d-9873-4b60ac92cc49",
   "metadata": {},
   "outputs": [
    {
     "name": "stdout",
     "output_type": "stream",
     "text": [
      "\u001b[1m1/1\u001b[0m \u001b[32m━━━━━━━━━━━━━━━━━━━━\u001b[0m\u001b[37m\u001b[0m \u001b[1m0s\u001b[0m 26ms/step\n",
      "Predicted Digit: 6\n"
     ]
    }
   ],
   "source": [
    "img = preprocess_image(\"Downloads/Ds5Rc.png\")\n",
    "pred = model.predict(img)\n",
    "print(f\"Predicted Digit: {np.argmax(pred)}\")\n"
   ]
  },
  {
   "cell_type": "markdown",
   "id": "90c4b03a-d711-4f4b-a801-58d5dba191e8",
   "metadata": {},
   "source": [
    "# Visualizing the Processed Image\n",
    "This section displays the grayscale, resized, normalized image after preprocessing—exactly how it’s fed into the model for prediction."
   ]
  },
  {
   "cell_type": "code",
   "execution_count": 63,
   "id": "22c33823-7e3e-4404-bda2-58aec38ff2c4",
   "metadata": {},
   "outputs": [
    {
     "data": {
      "image/png": "[encoded data removed]",
      "text/plain": [
       "<Figure size 640x480 with 1 Axes>"
      ]
     },
     "metadata": {},
     "output_type": "display_data"
    }
   ],
   "source": [
    "plt.imshow(img.reshape(28, 28), cmap='gray')\n",
    "plt.title(\"Processed Image\")\n",
    "plt.axis('off')\n",
    "plt.show()\n"
   ]
  },
  {
   "cell_type": "code",
   "execution_count": null,
   "id": "d58f8beb-4217-4e9f-9aa7-ac79d105ce83",
   "metadata": {},
   "outputs": [],
   "source": []
  }
 ],
 "metadata": {
  "kernelspec": {
   "display_name": "Python [conda env:base] *",
   "language": "python",
   "name": "conda-base-py"
  },
  "language_info": {
   "codemirror_mode": {
    "name": "ipython",
    "version": 3
   },
   "file_extension": ".py",
   "mimetype": "text/x-python",
   "name": "python",
   "nbconvert_exporter": "python",
   "pygments_lexer": "ipython3",
   "version": "3.12.7"
  }
 },
 "nbformat": 4,
 "nbformat_minor": 5
}
